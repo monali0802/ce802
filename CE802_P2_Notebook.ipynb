{
 "cells": [
  {
   "cell_type": "code",
   "execution_count": 1,
   "id": "tropical-advertising",
   "metadata": {
    "_cell_guid": "b1076dfc-b9ad-4769-8c92-a6c4dae69d19",
    "_kg_hide-output": true,
    "_uuid": "8f2839f25d086af736a60e9eeb907d3b93b6e0e5",
    "execution": {
     "iopub.execute_input": "2021-07-15T10:28:47.730867Z",
     "iopub.status.busy": "2021-07-15T10:28:47.729390Z",
     "iopub.status.idle": "2021-07-15T10:28:48.837993Z",
     "shell.execute_reply": "2021-07-15T10:28:48.837440Z",
     "shell.execute_reply.started": "2021-07-15T09:44:39.425278Z"
    },
    "papermill": {
     "duration": 1.131667,
     "end_time": "2021-07-15T10:28:48.838170",
     "exception": false,
     "start_time": "2021-07-15T10:28:47.706503",
     "status": "completed"
    },
    "tags": []
   },
   "outputs": [],
   "source": [
    "import numpy as np\n",
    "import pandas as pd\n",
    "import matplotlib.pyplot as plt \n",
    "from sklearn import cluster, datasets, metrics\n",
    "import seaborn as sns\n",
    "from sklearn.model_selection import train_test_split\n",
    "from sklearn.model_selection import cross_val_score\n",
    "from sklearn.model_selection import GridSearchCV\n"
   ]
  },
  {
   "cell_type": "code",
   "execution_count": 2,
   "id": "satisfied-mathematics",
   "metadata": {
    "execution": {
     "iopub.execute_input": "2021-07-15T10:28:48.871494Z",
     "iopub.status.busy": "2021-07-15T10:28:48.870952Z",
     "iopub.status.idle": "2021-07-15T10:28:48.924383Z",
     "shell.execute_reply": "2021-07-15T10:28:48.924923Z",
     "shell.execute_reply.started": "2021-07-15T09:49:02.354504Z"
    },
    "papermill": {
     "duration": 0.074369,
     "end_time": "2021-07-15T10:28:48.925104",
     "exception": false,
     "start_time": "2021-07-15T10:28:48.850735",
     "status": "completed"
    },
    "tags": []
   },
   "outputs": [
    {
     "name": "stdout",
     "output_type": "stream",
     "text": [
      "       F1     F2    F3     F4      F5    F6     F7    F8     F9  F10     F11  \\\n",
      "0      16   6.03 -4.56  30.00   63.04  0.55  -0.78  0.96  -1.67    1 -339.75   \n",
      "2     630  43.35  0.50  50.70  219.04 -3.46  10.08  5.65 -14.67   10 -129.75   \n",
      "3      30   2.79 -3.58  31.83   69.04 -0.40  -0.09  0.18  -1.67    1 -276.75   \n",
      "6     122   5.04 -8.80  32.07   88.04  1.33   0.12  0.48  -3.67    1 -270.75   \n",
      "8     260  21.75  5.78  53.70  259.04 -4.31  16.50  7.40 -14.67   10 -309.75   \n",
      "...   ...    ...   ...    ...     ...   ...    ...   ...    ...  ...     ...   \n",
      "1488   32   2.10 -4.02  32.70   87.04  2.24   2.16  0.31  -1.67    1 -273.75   \n",
      "1489   22   3.27 -7.94  30.66   76.04 -0.15  -0.93  0.90  -2.67    1 -294.75   \n",
      "1492  200  20.40  2.98  46.50  254.04 -3.74   8.70  7.30 -14.67   10 -369.75   \n",
      "1496    2   4.29 -5.10  30.54   86.04  1.84  -1.77  0.73  -1.67    1 -279.75   \n",
      "1499   20   5.31 -3.02  31.44   72.04  0.74   2.16  1.02   0.33    1 -297.75   \n",
      "\n",
      "       F12    F13   F14    F15  Class  \n",
      "0     0.84   9.90 -2.22  -9.53  False  \n",
      "2    -3.40   1.80  8.48 -10.29  False  \n",
      "3    -0.32  13.32  1.36  -9.92  False  \n",
      "6    -0.36  12.36  0.84 -10.76  False  \n",
      "8    -1.70   1.66  8.58 -11.39   True  \n",
      "...    ...    ...   ...    ...    ...  \n",
      "1488  0.56  13.24  0.88  -9.87  False  \n",
      "1489  4.90  11.94 -2.84  -9.98  False  \n",
      "1492 -1.66   4.12  8.06  -8.36  False  \n",
      "1496 -1.56  13.72 -1.46 -10.00  False  \n",
      "1499  1.64  14.46  1.28 -11.14   True  \n",
      "\n",
      "[750 rows x 16 columns]\n"
     ]
    }
   ],
   "source": [
    "df = pd.read_csv('../input/p92-data-test/CE802_P2_Data.csv')\n",
    "df1 = df.dropna()\n",
    "\n",
    "means = df['F15'].mean()\n",
    "df_means = df.where(pd.notnull(df['F15']), means)\n",
    "df_means['Class'] = (df_means['Class'] == True).astype(int)\n",
    "print(df1)"
   ]
  },
  {
   "cell_type": "code",
   "execution_count": 3,
   "id": "prerequisite-bennett",
   "metadata": {
    "execution": {
     "iopub.execute_input": "2021-07-15T10:28:48.955273Z",
     "iopub.status.busy": "2021-07-15T10:28:48.954712Z",
     "iopub.status.idle": "2021-07-15T10:28:49.079515Z",
     "shell.execute_reply": "2021-07-15T10:28:49.079086Z",
     "shell.execute_reply.started": "2021-07-15T09:49:33.170839Z"
    },
    "papermill": {
     "duration": 0.14226,
     "end_time": "2021-07-15T10:28:49.079624",
     "exception": false,
     "start_time": "2021-07-15T10:28:48.937364",
     "status": "completed"
    },
    "tags": []
   },
   "outputs": [
    {
     "data": {
      "text/plain": [
       "(array([0, 1]), [Text(0, 0, 'False'), Text(1, 0, 'True')])"
      ]
     },
     "execution_count": 3,
     "metadata": {},
     "output_type": "execute_result"
    },
    {
     "data": {
      "image/png": "[encoded data removed]",
      "text/plain": [
       "<Figure size 432x288 with 1 Axes>"
      ]
     },
     "metadata": {
      "needs_background": "light"
     },
     "output_type": "display_data"
    }
   ],
   "source": [
    "import seaborn as sns\n",
    "\n",
    "sns.countplot(x= 'Class', data = df1)\n",
    "plt.xticks(rotation=0)\n"
   ]
  },
  {
   "cell_type": "code",
   "execution_count": 4,
   "id": "adolescent-breakdown",
   "metadata": {
    "execution": {
     "iopub.execute_input": "2021-07-15T10:28:49.108675Z",
     "iopub.status.busy": "2021-07-15T10:28:49.107839Z",
     "iopub.status.idle": "2021-07-15T10:28:49.197823Z",
     "shell.execute_reply": "2021-07-15T10:28:49.197424Z",
     "shell.execute_reply.started": "2021-07-15T09:49:39.097055Z"
    },
    "papermill": {
     "duration": 0.106336,
     "end_time": "2021-07-15T10:28:49.197927",
     "exception": false,
     "start_time": "2021-07-15T10:28:49.091591",
     "status": "completed"
    },
    "tags": []
   },
   "outputs": [
    {
     "data": {
      "text/plain": [
       "(array([0, 1]), [Text(0, 0, '0'), Text(1, 0, '1')])"
      ]
     },
     "execution_count": 4,
     "metadata": {},
     "output_type": "execute_result"
    },
    {
     "data": {
      "image/png": "[encoded data removed]",
      "text/plain": [
       "<Figure size 432x288 with 1 Axes>"
      ]
     },
     "metadata": {
      "needs_background": "light"
     },
     "output_type": "display_data"
    }
   ],
   "source": [
    "\n",
    "import seaborn as sns\n",
    "sns.countplot(x= 'Class', data = df_means)\n",
    "plt.xticks(rotation=0)"
   ]
  },
  {
   "cell_type": "code",
   "execution_count": 5,
   "id": "north-challenge",
   "metadata": {
    "execution": {
     "iopub.execute_input": "2021-07-15T10:28:49.231078Z",
     "iopub.status.busy": "2021-07-15T10:28:49.229777Z",
     "iopub.status.idle": "2021-07-15T10:28:49.233585Z",
     "shell.execute_reply": "2021-07-15T10:28:49.233085Z",
     "shell.execute_reply.started": "2021-07-15T09:50:48.011139Z"
    },
    "papermill": {
     "duration": 0.023086,
     "end_time": "2021-07-15T10:28:49.233692",
     "exception": false,
     "start_time": "2021-07-15T10:28:49.210606",
     "status": "completed"
    },
    "tags": []
   },
   "outputs": [],
   "source": [
    "features = ['F1', 'F2', 'F3', 'F4', 'F5', 'F6', 'F7', 'F8', 'F9', 'F10', 'F11',\n",
    "       'F12', 'F13', 'F14', 'F15']\n",
    "\n",
    "X_df = df1[features].copy()\n",
    "y_df = df1['Class'].copy()\n",
    "\n",
    "X = X_df.values\n",
    "y = y_df.values\n",
    "\n",
    "\n",
    "X_df_mean = df_means[features].copy()\n",
    "y_df_mean = df_means['Class'].copy()\n",
    "\n",
    "X_mean = X_df_mean.values\n",
    "y_mean = y_df_mean.values"
   ]
  },
  {
   "cell_type": "code",
   "execution_count": 6,
   "id": "enhanced-drawing",
   "metadata": {
    "execution": {
     "iopub.execute_input": "2021-07-15T10:28:49.265168Z",
     "iopub.status.busy": "2021-07-15T10:28:49.264016Z",
     "iopub.status.idle": "2021-07-15T10:28:49.267701Z",
     "shell.execute_reply": "2021-07-15T10:28:49.267316Z",
     "shell.execute_reply.started": "2021-07-15T09:51:09.802045Z"
    },
    "papermill": {
     "duration": 0.021277,
     "end_time": "2021-07-15T10:28:49.267798",
     "exception": false,
     "start_time": "2021-07-15T10:28:49.246521",
     "status": "completed"
    },
    "tags": []
   },
   "outputs": [],
   "source": [
    "X_train, X_test, y_train, y_test = train_test_split(X, y, test_size=0.20, random_state=42)\n",
    "\n",
    "X_train_mean, X_test_mean, y_train_mean, y_test_mean = train_test_split(X_mean, y_mean, test_size=0.20, random_state=42)"
   ]
  },
  {
   "cell_type": "code",
   "execution_count": 7,
   "id": "mediterranean-stable",
   "metadata": {
    "execution": {
     "iopub.execute_input": "2021-07-15T10:28:49.385867Z",
     "iopub.status.busy": "2021-07-15T10:28:49.385048Z",
     "iopub.status.idle": "2021-07-15T10:28:53.530510Z",
     "shell.execute_reply": "2021-07-15T10:28:53.531116Z",
     "shell.execute_reply.started": "2021-07-15T10:02:39.566654Z"
    },
    "papermill": {
     "duration": 4.250832,
     "end_time": "2021-07-15T10:28:53.531323",
     "exception": false,
     "start_time": "2021-07-15T10:28:49.280491",
     "status": "completed"
    },
    "tags": []
   },
   "outputs": [
    {
     "name": "stdout",
     "output_type": "stream",
     "text": [
      "With drop NaN\n",
      "0.82\n",
      "[0.85       0.83333333 0.8        0.825      0.83333333]\n",
      "0.8683333333333334\n",
      "{'criterion': 'gini', 'max_depth': 1}\n",
      "With mean NaN\n",
      "0.9333333333333333\n",
      "[0.95833333 0.9125     0.89166667 0.90833333 0.92916667]\n",
      "0.9216666666666666\n",
      "{'criterion': 'gini', 'max_depth': 4}\n"
     ]
    }
   ],
   "source": [
    "from sklearn.tree import DecisionTreeClassifier\n",
    "clf_d = DecisionTreeClassifier()\n",
    "clf_d.fit(X_train, y_train)\n",
    "y_pred_d = clf_d.predict(X_test)\n",
    "print(\"With drop NaN\")\n",
    "print(clf_d.score(X_test, y_test))\n",
    "\n",
    "score = cross_val_score(clf_d, X_train, y_train, cv=5) \n",
    "print(score)\n",
    "\n",
    "param_grid_d = {\n",
    "    'criterion': ['gini', 'entropy'],\n",
    "    'max_depth' : range(1,15)\n",
    "}\n",
    "clf_d_grid = GridSearchCV(clf_d, param_grid_d, cv = 10, n_jobs=-1)\n",
    "clf_d_grid.fit(X_train, y_train)\n",
    "print(clf_d_grid.best_score_)\n",
    "print(clf_d_grid.best_params_)\n",
    "\n",
    "\n",
    "clf_d.fit(X_train_mean, y_train_mean)\n",
    "y_pred_d_mean = clf_d.predict(X_test_mean)\n",
    "print(\"With mean NaN\")\n",
    "print(clf_d.score(X_test_mean, y_test_mean))\n",
    "\n",
    "score_mean = cross_val_score(clf_d, X_train_mean, y_train_mean, cv=5) \n",
    "print(score_mean)\n",
    "\n",
    "clf_d_grid.fit(X_train_mean, y_train_mean)\n",
    "print(clf_d_grid.best_score_)\n",
    "print(clf_d_grid.best_params_)"
   ]
  },
  {
   "cell_type": "code",
   "execution_count": 8,
   "id": "retained-mineral",
   "metadata": {
    "execution": {
     "iopub.execute_input": "2021-07-15T10:28:53.566482Z",
     "iopub.status.busy": "2021-07-15T10:28:53.565930Z",
     "iopub.status.idle": "2021-07-15T10:28:53.653144Z",
     "shell.execute_reply": "2021-07-15T10:28:53.652558Z",
     "shell.execute_reply.started": "2021-07-15T10:02:28.460115Z"
    },
    "papermill": {
     "duration": 0.107219,
     "end_time": "2021-07-15T10:28:53.653293",
     "exception": false,
     "start_time": "2021-07-15T10:28:53.546074",
     "status": "completed"
    },
    "tags": []
   },
   "outputs": [
    {
     "name": "stdout",
     "output_type": "stream",
     "text": [
      "With drop NaN\n",
      "0.7066666666666667\n",
      "[0.74166667 0.7        0.61666667 0.69166667 0.8       ]\n",
      "0.7033333333333334\n",
      "With mean NaN\n",
      "0.7466666666666667\n",
      "[0.75833333 0.72916667 0.71666667 0.72083333 0.70416667]\n",
      "0.7258333333333333\n"
     ]
    }
   ],
   "source": [
    "from sklearn.naive_bayes import GaussianNB\n",
    "gnb = GaussianNB()\n",
    "y_pred_gnb = gnb.fit(X_train, y_train).predict(X_test)\n",
    "print(\"With drop NaN\")\n",
    "print(gnb.score(X_test, y_test))\n",
    "\n",
    "\n",
    "score = cross_val_score(gnb, X_train, y_train, cv=5) \n",
    "print(score)\n",
    "\n",
    "param_grid_g = {\n",
    "    \n",
    "}\n",
    "clf_g_grid = GridSearchCV(gnb, param_grid_g, cv = 10, n_jobs=-1)\n",
    "clf_g_grid.fit(X_train, y_train)\n",
    "print(clf_g_grid.best_score_)\n",
    "\n",
    "\n",
    "y_pred_gnb_mean = gnb.fit(X_train_mean, y_train_mean).predict(X_test_mean)\n",
    "print(\"With mean NaN\")\n",
    "print(gnb.score(X_test_mean, y_test_mean))\n",
    "\n",
    "\n",
    "score_mean = cross_val_score(gnb, X_train_mean, y_train_mean, cv=5) \n",
    "print(score_mean)\n",
    "\n",
    "clf_g_grid.fit(X_train_mean, y_train_mean)\n",
    "print(clf_g_grid.best_score_)"
   ]
  },
  {
   "cell_type": "code",
   "execution_count": 9,
   "id": "split-monkey",
   "metadata": {
    "execution": {
     "iopub.execute_input": "2021-07-15T10:28:53.690408Z",
     "iopub.status.busy": "2021-07-15T10:28:53.689425Z",
     "iopub.status.idle": "2021-07-15T10:28:59.697289Z",
     "shell.execute_reply": "2021-07-15T10:28:59.697897Z",
     "shell.execute_reply.started": "2021-07-15T10:19:56.379541Z"
    },
    "papermill": {
     "duration": 6.029781,
     "end_time": "2021-07-15T10:28:59.698053",
     "exception": false,
     "start_time": "2021-07-15T10:28:53.668272",
     "status": "completed"
    },
    "tags": []
   },
   "outputs": [
    {
     "name": "stdout",
     "output_type": "stream",
     "text": [
      "With drop NaN\n",
      "0.6266666666666667\n",
      "[0.63333333 0.61666667 0.51666667 0.58333333 0.65833333]\n",
      "0.8816666666666666\n",
      "{'C': 5000, 'kernel': 'rbf'}\n",
      "With mean NaN\n",
      "0.8\n",
      "[0.82083333 0.8        0.81666667 0.80416667 0.775     ]\n",
      "0.9358333333333334\n",
      "{'C': 5000, 'kernel': 'rbf'}\n"
     ]
    }
   ],
   "source": [
    "from sklearn.svm import SVC\n",
    "clf_svc = SVC()\n",
    "clf_svc.fit(X_train, y_train)\n",
    "y_pre_svc = clf_svc.predict(X_test)\n",
    "print(\"With drop NaN\")\n",
    "print(clf_svc.score(X_test, y_test))\n",
    "\n",
    "score = cross_val_score(clf_svc, X_train, y_train, cv=5) \n",
    "print(score)\n",
    "\n",
    "param_grid_svc ={\n",
    "    'C': [100, 500, 1000, 5000],\n",
    "    'kernel': ['rbf', 'sigmoid']\n",
    "}\n",
    "clf_svc_grid = GridSearchCV(clf_svc, param_grid_svc, cv=10, n_jobs=-1) # create grid search including pipe and parameters \n",
    "clf_svc_grid.fit(X_train, y_train)\n",
    "print(clf_svc_grid.best_score_)\n",
    "print(clf_svc_grid.best_params_)\n",
    "\n",
    "\n",
    "clf_svc.fit(X_train_mean, y_train_mean)\n",
    "y_pre_svc_mean = clf_svc.predict(X_test_mean)\n",
    "print(\"With mean NaN\")\n",
    "print(clf_svc.score(X_test_mean, y_test_mean))\n",
    "\n",
    "score_mean = cross_val_score(clf_svc, X_train_mean, y_train_mean, cv=5) \n",
    "print(score_mean)\n",
    "\n",
    "clf_svc_grid.fit(X_train_mean, y_train_mean)\n",
    "print(clf_svc_grid.best_score_)\n",
    "print(clf_svc_grid.best_params_)"
   ]
  },
  {
   "cell_type": "code",
   "execution_count": 10,
   "id": "stretch-creation",
   "metadata": {
    "execution": {
     "iopub.execute_input": "2021-07-15T10:28:59.737524Z",
     "iopub.status.busy": "2021-07-15T10:28:59.736552Z",
     "iopub.status.idle": "2021-07-15T10:29:03.881363Z",
     "shell.execute_reply": "2021-07-15T10:29:03.880867Z",
     "shell.execute_reply.started": "2021-07-15T10:02:51.597442Z"
    },
    "papermill": {
     "duration": 4.167448,
     "end_time": "2021-07-15T10:29:03.881487",
     "exception": false,
     "start_time": "2021-07-15T10:28:59.714039",
     "status": "completed"
    },
    "tags": []
   },
   "outputs": [
    {
     "name": "stdout",
     "output_type": "stream",
     "text": [
      "With drop NaN\n",
      "0.62\n",
      "[0.56666667 0.7        0.6        0.61666667 0.6       ]\n",
      "0.6866666666666668\n",
      "{'n_neighbors': 10, 'p': 1}\n",
      "With mean NaN\n",
      "0.8066666666666666\n",
      "[0.85       0.82083333 0.825      0.79583333 0.8125    ]\n",
      "0.8491666666666667\n",
      "{'n_neighbors': 20, 'p': 1}\n"
     ]
    }
   ],
   "source": [
    "from sklearn.neighbors import KNeighborsClassifier\n",
    "clf_knn = KNeighborsClassifier()\n",
    "clf_knn.fit(X_train, y_train)\n",
    "y_pre_knn = clf_knn.predict(X_test)\n",
    "print(\"With drop NaN\")\n",
    "print(clf_knn.score(X_test, y_test))\n",
    "\n",
    "\n",
    "score = cross_val_score(clf_knn, X_train, y_train, cv=5) \n",
    "print(score)\n",
    "\n",
    "param_grid_k ={\n",
    "    'n_neighbors': [10, 20, 30, 40, 50, 100],\n",
    "    'p': [1, 2, 3]\n",
    "}\n",
    "clf_k_grid = GridSearchCV(clf_knn, param_grid_k, cv=10, n_jobs=-1) # create grid search including pipe and parameters \n",
    "clf_k_grid.fit(X_train, y_train)\n",
    "print(clf_k_grid.best_score_)\n",
    "print(clf_k_grid.best_params_)\n",
    "\n",
    "clf_knn.fit(X_train_mean, y_train_mean)\n",
    "y_pre_knn_mean = clf_knn.predict(X_test_mean)\n",
    "print(\"With mean NaN\")\n",
    "print(clf_knn.score(X_test_mean, y_test_mean))\n",
    "\n",
    "\n",
    "score_mean = cross_val_score(clf_knn, X_train_mean, y_train_mean, cv=5) \n",
    "print(score_mean)\n",
    "\n",
    "clf_k_grid.fit(X_train_mean, y_train_mean)\n",
    "print(clf_k_grid.best_score_)\n",
    "print(clf_k_grid.best_params_)"
   ]
  },
  {
   "cell_type": "code",
   "execution_count": 11,
   "id": "economic-opinion",
   "metadata": {
    "execution": {
     "iopub.execute_input": "2021-07-15T10:29:03.921093Z",
     "iopub.status.busy": "2021-07-15T10:29:03.920588Z",
     "iopub.status.idle": "2021-07-15T10:29:03.938584Z",
     "shell.execute_reply": "2021-07-15T10:29:03.938972Z",
     "shell.execute_reply.started": "2021-07-15T09:57:05.160000Z"
    },
    "papermill": {
     "duration": 0.041527,
     "end_time": "2021-07-15T10:29:03.939089",
     "exception": false,
     "start_time": "2021-07-15T10:29:03.897562",
     "status": "completed"
    },
    "tags": []
   },
   "outputs": [],
   "source": [
    "df_test_p = pd.read_csv('../input/p92-data-test/CE802_P2_Test.csv')\n",
    "means_p_t = df_test_p['F15'].mean()\n",
    "df_test_p1 = df_test_p.where(pd.notnull(df_test_p), means_p_t)\n",
    "df_test_p1['Class'] = (df_test_p1['Class'] == True).astype(int)\n",
    "\n",
    "X_test_p = df_test_p1[features].copy()\n",
    "\n",
    "X_test_p = X_test_p.values"
   ]
  },
  {
   "cell_type": "code",
   "execution_count": 12,
   "id": "static-quality",
   "metadata": {
    "execution": {
     "iopub.execute_input": "2021-07-15T10:29:03.975558Z",
     "iopub.status.busy": "2021-07-15T10:29:03.974684Z",
     "iopub.status.idle": "2021-07-15T10:29:04.240724Z",
     "shell.execute_reply": "2021-07-15T10:29:04.240315Z",
     "shell.execute_reply.started": "2021-07-15T10:16:01.568262Z"
    },
    "papermill": {
     "duration": 0.286009,
     "end_time": "2021-07-15T10:29:04.240833",
     "exception": false,
     "start_time": "2021-07-15T10:29:03.954824",
     "status": "completed"
    },
    "tags": []
   },
   "outputs": [
    {
     "name": "stdout",
     "output_type": "stream",
     "text": [
      "       F1     F2     F3     F4      F5    F6     F7    F8     F9  F10     F11  \\\n",
      "0       4   5.58  -4.66  31.83   69.04 -0.35  -1.29  0.06  -3.67    1 -243.75   \n",
      "1      80  37.95   4.40  50.70  199.04 -4.83   5.19  7.25  -4.67   10 -474.75   \n",
      "2      60   1.08  -4.14  32.13   73.04  0.14   2.01  0.59  -3.67    1 -234.75   \n",
      "3     240  34.95   3.74  44.85  264.04 -2.92  11.52  8.45 -14.67   10 -174.75   \n",
      "4      42   4.11  -3.78  31.92   92.04  1.09  -2.67  0.72  -3.67    1 -282.75   \n",
      "...   ...    ...    ...    ...     ...   ...    ...   ...    ...  ...     ...   \n",
      "1495   62   5.13  -5.32  32.46   72.04  1.17  -1.62  0.41   0.33    1 -306.75   \n",
      "1496   30   0.69  -3.96  32.70   78.04 -0.16  -0.57  0.01  -1.67    1 -288.75   \n",
      "1497   94   4.95  -5.38  32.19   91.04  1.99   1.47  0.56  -1.67    1 -252.75   \n",
      "1498   70   3.72  -6.82  33.06   74.04  0.50   2.52  0.24   0.33    1 -351.75   \n",
      "1499   52   3.09 -10.72  30.69   74.04  0.82   0.33  0.40  -1.67    0 -252.75   \n",
      "\n",
      "       F12    F13   F14        F15  Class  \n",
      "0     0.94  13.84 -1.48 -11.040000   True  \n",
      "1    -3.34   0.46  8.72 -10.496347  False  \n",
      "2    -1.08   9.36 -1.20 -11.710000   True  \n",
      "3    -3.20   2.94  4.14 -10.400000  False  \n",
      "4    -0.40  11.20  0.92 -11.140000   True  \n",
      "...    ...    ...   ...        ...    ...  \n",
      "1495  1.20   9.24  0.96 -10.496347   True  \n",
      "1496  1.48   9.68 -0.08 -10.496347   True  \n",
      "1497 -0.86  12.04 -0.28 -10.496347  False  \n",
      "1498 -0.08   9.48  0.34 -10.496347   True  \n",
      "1499  6.34  10.02  0.32 -10.496347  False  \n",
      "\n",
      "[1500 rows x 16 columns]\n"
     ]
    }
   ],
   "source": [
    "clf_svc = SVC(C=5000)\n",
    "clf_svc.fit(X_mean, y_mean)\n",
    "y_pre_svc_p = clf_svc.predict(X_test_p)\n",
    "\n",
    "new_array = pd.DataFrame({'Class': y_pre_svc_p.astype(bool)})\n",
    "df_test_p1['Class'] = new_array\n",
    "print(df_test_p1)                          "
   ]
  },
  {
   "cell_type": "code",
   "execution_count": 13,
   "id": "bronze-england",
   "metadata": {
    "execution": {
     "iopub.execute_input": "2021-07-15T10:29:04.291017Z",
     "iopub.status.busy": "2021-07-15T10:29:04.276763Z",
     "iopub.status.idle": "2021-07-15T10:29:04.294556Z",
     "shell.execute_reply": "2021-07-15T10:29:04.294091Z",
     "shell.execute_reply.started": "2021-07-15T10:16:04.192678Z"
    },
    "papermill": {
     "duration": 0.037737,
     "end_time": "2021-07-15T10:29:04.294667",
     "exception": false,
     "start_time": "2021-07-15T10:29:04.256930",
     "status": "completed"
    },
    "tags": []
   },
   "outputs": [],
   "source": [
    "rows = df_test_p1\n",
    "  \n",
    "# using the savetxt  \n",
    "# from the numpy module \n",
    "\n",
    "np.savetxt(\"test.csv\",  \n",
    "           rows, \n",
    "           delimiter =\", \",\n",
    "           header = \"F1, F2, F3, F4, F5, F6, F7, F8, F9, F10, F11, F12, F13, F14, F15, Class\",\n",
    "           fmt ='% s',\n",
    "           comments =\" \")"
   ]
  },
  {
   "cell_type": "code",
   "execution_count": 14,
   "id": "dated-crazy",
   "metadata": {
    "execution": {
     "iopub.execute_input": "2021-07-15T10:29:04.330937Z",
     "iopub.status.busy": "2021-07-15T10:29:04.330117Z",
     "iopub.status.idle": "2021-07-15T10:29:04.339943Z",
     "shell.execute_reply": "2021-07-15T10:29:04.339365Z",
     "shell.execute_reply.started": "2021-07-15T10:23:34.825297Z"
    },
    "papermill": {
     "duration": 0.02943,
     "end_time": "2021-07-15T10:29:04.340073",
     "exception": false,
     "start_time": "2021-07-15T10:29:04.310643",
     "status": "completed"
    },
    "tags": []
   },
   "outputs": [
    {
     "name": "stdout",
     "output_type": "stream",
     "text": [
      "[[191  40]\n",
      " [ 20  49]]\n",
      "                       precision    recall  f1-score   support\n",
      "\n",
      "Buy expensive product       0.91      0.83      0.86       231\n",
      "    Buy cheap product       0.55      0.71      0.62        69\n",
      "\n",
      "             accuracy                           0.80       300\n",
      "            macro avg       0.73      0.77      0.74       300\n",
      "         weighted avg       0.82      0.80      0.81       300\n",
      "\n"
     ]
    }
   ],
   "source": [
    "from sklearn.metrics import classification_report, confusion_matrix\n",
    "print(confusion_matrix(y_test_mean, y_pre_svc_mean))\n",
    "\n",
    "print(classification_report(y_test_mean, y_pre_svc_mean, target_names=['Buy expensive product', 'Buy cheap product']))"
   ]
  },
  {
   "cell_type": "code",
   "execution_count": 15,
   "id": "solar-lottery",
   "metadata": {
    "execution": {
     "iopub.execute_input": "2021-07-15T10:29:04.378515Z",
     "iopub.status.busy": "2021-07-15T10:29:04.377801Z",
     "iopub.status.idle": "2021-07-15T10:29:04.520583Z",
     "shell.execute_reply": "2021-07-15T10:29:04.520181Z",
     "shell.execute_reply.started": "2021-07-15T10:25:47.152915Z"
    },
    "papermill": {
     "duration": 0.163588,
     "end_time": "2021-07-15T10:29:04.520688",
     "exception": false,
     "start_time": "2021-07-15T10:29:04.357100",
     "status": "completed"
    },
    "tags": []
   },
   "outputs": [
    {
     "name": "stdout",
     "output_type": "stream",
     "text": [
      "Average precision-recall score: 0.97\n"
     ]
    },
    {
     "data": {
      "text/plain": [
       "Text(0.5, 1.0, '2-class Precision-Recall curve: AP=0.97')"
      ]
     },
     "execution_count": 15,
     "metadata": {},
     "output_type": "execute_result"
    },
    {
     "data": {
      "image/png": "[encoded data removed]",
      "text/plain": [
       "<Figure size 432x288 with 1 Axes>"
      ]
     },
     "metadata": {
      "needs_background": "light"
     },
     "output_type": "display_data"
    }
   ],
   "source": [
    "from sklearn.metrics import average_precision_score\n",
    "y_score = clf_svc.decision_function(X_test_mean)\n",
    "average_precision = average_precision_score(y_test_mean, y_score)\n",
    "\n",
    "print('Average precision-recall score: {0:0.2f}'.format(\n",
    "      average_precision))\n",
    "\n",
    "from sklearn.metrics import precision_recall_curve\n",
    "from sklearn.metrics import plot_precision_recall_curve\n",
    "import matplotlib.pyplot as plt\n",
    "\n",
    "disp = plot_precision_recall_curve(clf_svc, X_test_mean, y_test_mean)\n",
    "disp.ax_.set_title('2-class Precision-Recall curve: '\n",
    "                   'AP={0:0.2f}'.format(average_precision))"
   ]
  }
 ],
 "metadata": {
  "kernelspec": {
   "display_name": "Python 3",
   "language": "python",
   "name": "python3"
  },
  "language_info": {
   "codemirror_mode": {
    "name": "ipython",
    "version": 3
   },
   "file_extension": ".py",
   "mimetype": "text/x-python",
   "name": "python",
   "nbconvert_exporter": "python",
   "pygments_lexer": "ipython3",
   "version": "3.7.10"
  },
  "papermill": {
   "default_parameters": {},
   "duration": 24.653565,
   "end_time": "2021-07-15T10:29:05.869722",
   "environment_variables": {},
   "exception": null,
   "input_path": "__notebook__.ipynb",
   "output_path": "__notebook__.ipynb",
   "parameters": {},
   "start_time": "2021-07-15T10:28:41.216157",
   "version": "2.3.3"
  }
 },
 "nbformat": 4,
 "nbformat_minor": 5
}
